{
 "cells": [
  {
   "cell_type": "markdown",
   "metadata": {},
   "source": [
    "# K-means\n",
    "\n",
    "## Data\n",
    "\n",
    "Use the [World Value Survey](http://www.worldvaluessurvey.org/WVSDocumentationWV6.jsp) datafiles and corresponding questionaire and codebook files to understand what is in the data.\n",
    "\n",
    "## Overarching research question\n",
    "\n",
    "What kind of responder groups can emerge from survey responders and do they correspond to nationalities?\n",
    "* Choose some relevant measurements\n",
    "* Run analysis\n",
    "* Interprent\n",
    "\n",
    "## Tools\n",
    "\n",
    "[Kmeans](https://www.rdocumentation.org/packages/stats/versions/3.6.2/topics/kmeans) is inbuild to R."
   ]
  },
  {
   "cell_type": "code",
   "execution_count": null,
   "metadata": {},
   "outputs": [],
   "source": [
    "## create new data matrix for k-means analysis\n",
    "\n",
    "selected_keys <- c('V4', 'V5', 'V6', 'V7', 'V8', 'V9')\n",
    "\n",
    "full_data <- read.csv('data/wvs.csv')\n",
    "\n",
    "data <- full_data[,selected_keys ]\n",
    "\n",
    "print( nrow( data ) )"
   ]
  },
  {
   "cell_type": "code",
   "execution_count": null,
   "metadata": {},
   "outputs": [],
   "source": [
    "kmeans_results <- kmeans( data, centers = 10 )\n",
    "\n",
    "clustering_results <- kmeans_results$cluster\n",
    "\n",
    "## number of responders per cluster\n",
    "\n",
    "table( clustering_results )"
   ]
  },
  {
   "cell_type": "markdown",
   "metadata": {},
   "source": [
    "Now we have created a **ten cluster** approach.\n",
    "How do we know if it is any good?\n",
    "\n",
    "What would be different if we create a **five cluster** model instead?\n",
    "\n",
    "Let's examine the mean values per each of the identified cluster."
   ]
  },
  {
   "cell_type": "code",
   "execution_count": null,
   "metadata": {},
   "outputs": [],
   "source": [
    "aggregate(data, by=list(clustering_results), FUN=mean)"
   ]
  },
  {
   "cell_type": "markdown",
   "metadata": {},
   "source": [
    "## Task\n",
    "\n",
    "* Run the above code and explain to yourself what is done.\n",
    "* Response values -1, -2 and -3 relate to missing data (people answering I don't know etc.). Clean these values away from the dataset and redo your analysis.\n",
    "* Choose suitable variables using the codebook and your understanding and intuition.\n",
    "* Modify the number of clusters and examine how results change."
   ]
  },
  {
   "cell_type": "markdown",
   "metadata": {},
   "source": [
    "## Looking inside K-means\n",
    "\n",
    "Often we prefer to use some data-driven approaches to identify the best number of clusters. One way to achieve this is to use the [elbow_ method](https://en.wikipedia.org/wiki/Elbow_method_(clustering)), where we visually inspect the best number of topics. Other tools exists as well, such as the [Silhouette method](https://en.wikipedia.org/wiki/Silhouette_(clustering)). Elbow is simple, but not always that clear and other methods are preferred. However, it is easy to understand.\n",
    "\n",
    "The Elbow-method measures the distance clusters' items have to the centroid (sum of squared errors, sse). It can range from 0 (all items in the clusters are at the same point as its centroid) to positive infinity (nodes are all over the place). When numer or clusters (k) is increased, it decreases SSE; but this is a balancing act: how do you balance between more clusters and additional complexity and most explainability?"
   ]
  },
  {
   "cell_type": "code",
   "execution_count": null,
   "metadata": {},
   "outputs": [],
   "source": [
    "sse <- c()\n",
    "\n",
    "for(k in 2:10) {\n",
    "    result <- kmeans( data, centers = k )\n",
    "    sse <- c( sse, result$tot.withinss ) ## this is slow in R, but when doing a list of ten items it is OK.\n",
    "}"
   ]
  },
  {
   "cell_type": "code",
   "execution_count": null,
   "metadata": {},
   "outputs": [],
   "source": [
    "plot( 2:10, sse, type=\"b\")"
   ]
  },
  {
   "cell_type": "markdown",
   "metadata": {},
   "source": [
    "## Tasks\n",
    "\n",
    "* Draw three different k-means clusterings with centroids and related values and organize them by their SSE.\n",
    "* Use the elbow method to optimize your model.\n",
    "* What similarities can you find between k-means and factor analysis?\n",
    "* How does k-means differ from factor analysis? "
   ]
  },
  {
   "cell_type": "code",
   "execution_count": null,
   "metadata": {},
   "outputs": [],
   "source": []
  }
 ],
 "metadata": {
  "kernelspec": {
   "display_name": "R",
   "language": "R",
   "name": "ir"
  },
  "language_info": {
   "codemirror_mode": "r",
   "file_extension": ".r",
   "mimetype": "text/x-r-source",
   "name": "R",
   "pygments_lexer": "r",
   "version": "4.1.0"
  }
 },
 "nbformat": 4,
 "nbformat_minor": 4
}
