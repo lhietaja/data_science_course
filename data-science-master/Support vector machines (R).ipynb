{
 "cells": [
  {
   "cell_type": "markdown",
   "metadata": {},
   "source": [
    "## Support vector machines\n",
    "\n",
    "**Data** [Gender-annoted dataset of European parliament talks](https://www.kaggle.com/ellarabi/europarl-annotated-for-speaker-gender-and-age)\n",
    "\n",
    "**Overreaching question** Can we develop a model which correctly predicts speakers' based on what they are saying?"
   ]
  },
  {
   "cell_type": "markdown",
   "metadata": {},
   "source": [
    "## Data management\n",
    "\n",
    "We connect the variable of interest into the textual data each speaker has said.\n",
    "That data is stored as XML, so we need to do a bit of work before we can easily use it.\n",
    "Also, transform the textual data to a feature matrix."
   ]
  },
  {
   "cell_type": "code",
   "execution_count": 3,
   "metadata": {},
   "outputs": [],
   "source": [
    "metadata_all <- readLines('./data/europarl-annotated-for-speaker-gender-and-age/europarl.de-en/europarl.de-en.dat')\n",
    "texts_all <- readLines('./data/europarl-annotated-for-speaker-gender-and-age/europarl.de-en/europarl.de-en.en.aligned.tok')\n",
    "\n",
    "## this time processign these takes already some time, so let's choose a random set of 1000 texts\n",
    "set.seed(1)\n",
    "\n",
    "all_ids <- 1:length( metadata_all )\n",
    "selected_ids <- sample( all_ids, 1000 )\n",
    "\n",
    "\n",
    "metadata <- metadata_all[ selected_ids ]\n",
    "texts <- texts_all[ selected_ids ]"
   ]
  },
  {
   "cell_type": "code",
   "execution_count": 4,
   "metadata": {},
   "outputs": [
    {
     "name": "stderr",
     "output_type": "stream",
     "text": [
      "Loading required package: XML\n",
      "\n"
     ]
    }
   ],
   "source": [
    "require(XML)\n",
    "\n",
    "clean <- function( entry ){\n",
    "    xml <- xmlTreeParse( entry )\n",
    "    return( xmlGetAttr( xml$doc$children$LINE  , \"GENDER\" ) )\n",
    "}\n",
    "\n",
    "gender <- sapply( metadata, FUN = clean )\n",
    "names( gender ) <- NA"
   ]
  },
  {
   "cell_type": "code",
   "execution_count": 5,
   "metadata": {},
   "outputs": [
    {
     "name": "stderr",
     "output_type": "stream",
     "text": [
      "Package version: 3.1.0\n",
      "Unicode version: 13.0\n",
      "ICU version: 69.1\n",
      "\n",
      "Parallel computing: 12 of 12 threads used.\n",
      "\n",
      "See https://quanteda.io for tutorials and examples.\n",
      "\n"
     ]
    }
   ],
   "source": [
    "library(quanteda)\n",
    "\n",
    "corp <- corpus( texts )\n",
    "\n",
    "token <- tokens( corp )\n",
    "\n",
    "document_terms <- dfm( token )"
   ]
  },
  {
   "cell_type": "code",
   "execution_count": 6,
   "metadata": {},
   "outputs": [
    {
     "data": {
      "text/html": [
       "<style>\n",
       ".list-inline {list-style: none; margin:0; padding: 0}\n",
       ".list-inline>li {display: inline-block}\n",
       ".list-inline>li:not(:last-child)::after {content: \"\\00b7\"; padding: 0 .5ex}\n",
       "</style>\n",
       "<ol class=list-inline><li>1000</li><li>4059</li></ol>\n"
      ],
      "text/latex": [
       "\\begin{enumerate*}\n",
       "\\item 1000\n",
       "\\item 4059\n",
       "\\end{enumerate*}\n"
      ],
      "text/markdown": [
       "1. 1000\n",
       "2. 4059\n",
       "\n",
       "\n"
      ],
      "text/plain": [
       "[1] 1000 4059"
      ]
     },
     "metadata": {},
     "output_type": "display_data"
    }
   ],
   "source": [
    "data <- convert( document_terms, \"data.frame\" )\n",
    "data$label_for_ml <- as.vector( gender ) ## adding the label we seek to learn to data\n",
    "data$label_for_ml <- as.factor( data$label_for_ml )\n",
    "data <- data[, -c(1)] ## this column is added when converting to data frame, but it is useless => remove from analysis\n",
    "\n",
    "dim( data )"
   ]
  },
  {
   "cell_type": "markdown",
   "metadata": {},
   "source": [
    "## Separate the train-test split\n",
    "\n",
    "This is used later in the analysis to ensure we do not [overfit](https://en.wikipedia.org/wiki/Overfitting) the data when we train the machine learning classifier.\n",
    "We choose to use 20% of data for testing."
   ]
  },
  {
   "cell_type": "code",
   "execution_count": 7,
   "metadata": {},
   "outputs": [
    {
     "name": "stderr",
     "output_type": "stream",
     "text": [
      "Loading required package: lattice\n",
      "\n",
      "Loading required package: ggplot2\n",
      "\n"
     ]
    }
   ],
   "source": [
    "library( caret )\n",
    "\n",
    "trainIndex <- createDataPartition(data$label_for_ml, p = .8, list = FALSE)\n",
    "\n",
    "dataTrain <- data[ trainIndex,]\n",
    "dataTest  <- data[-trainIndex,]"
   ]
  },
  {
   "cell_type": "markdown",
   "metadata": {},
   "source": [
    "# Run and evaluate machine learning tasks\n",
    "\n",
    "We now train the model using the **training** data and measure how well accuracy we achieved by examining **test data**."
   ]
  },
  {
   "cell_type": "code",
   "execution_count": 9,
   "metadata": {},
   "outputs": [
    {
     "name": "stderr",
     "output_type": "stream",
     "text": [
      "Warning message in .local(x, ...):\n",
      "“Variable(s) `' constant. Cannot scale data.”\n",
      "Warning message in .local(x, ...):\n",
      "“Variable(s) `' constant. Cannot scale data.”\n",
      "Warning message in .local(x, ...):\n",
      "“Variable(s) `' constant. Cannot scale data.”\n",
      "Warning message in .local(x, ...):\n",
      "“Variable(s) `' constant. Cannot scale data.”\n",
      "Warning message in .local(x, ...):\n",
      "“Variable(s) `' constant. Cannot scale data.”\n",
      "Warning message in .local(x, ...):\n",
      "“Variable(s) `' constant. Cannot scale data.”\n",
      "Warning message in .local(x, ...):\n",
      "“Variable(s) `' constant. Cannot scale data.”\n",
      "Warning message in .local(x, ...):\n",
      "“Variable(s) `' constant. Cannot scale data.”\n",
      "Warning message in .local(x, ...):\n",
      "“Variable(s) `' constant. Cannot scale data.”\n",
      "Warning message in .local(x, ...):\n",
      "“Variable(s) `' constant. Cannot scale data.”\n",
      "Warning message in .local(x, ...):\n",
      "“Variable(s) `' constant. Cannot scale data.”\n",
      "Warning message in .local(x, ...):\n",
      "“Variable(s) `' constant. Cannot scale data.”\n",
      "Warning message in .local(x, ...):\n",
      "“Variable(s) `' constant. Cannot scale data.”\n",
      "Warning message in .local(x, ...):\n",
      "“Variable(s) `' constant. Cannot scale data.”\n",
      "Warning message in .local(x, ...):\n",
      "“Variable(s) `' constant. Cannot scale data.”\n",
      "Warning message in .local(x, ...):\n",
      "“Variable(s) `' constant. Cannot scale data.”\n",
      "Warning message in .local(x, ...):\n",
      "“Variable(s) `' constant. Cannot scale data.”\n",
      "Warning message in .local(x, ...):\n",
      "“Variable(s) `' constant. Cannot scale data.”\n",
      "Warning message in .local(x, ...):\n",
      "“Variable(s) `' constant. Cannot scale data.”\n",
      "Warning message in .local(x, ...):\n",
      "“Variable(s) `' constant. Cannot scale data.”\n",
      "Warning message in .local(x, ...):\n",
      "“Variable(s) `' constant. Cannot scale data.”\n",
      "Warning message in .local(x, ...):\n",
      "“Variable(s) `' constant. Cannot scale data.”\n",
      "Warning message in .local(x, ...):\n",
      "“Variable(s) `' constant. Cannot scale data.”\n",
      "Warning message in .local(x, ...):\n",
      "“Variable(s) `' constant. Cannot scale data.”\n",
      "Warning message in .local(x, ...):\n",
      "“Variable(s) `' constant. Cannot scale data.”\n",
      "Warning message in .local(x, ...):\n",
      "“Variable(s) `' constant. Cannot scale data.”\n"
     ]
    },
    {
     "name": "stdout",
     "output_type": "stream",
     "text": [
      "Support Vector Machines with Linear Kernel \n",
      "\n",
      " 801 samples\n",
      "4058 predictors\n",
      "   2 classes: 'FEMALE', 'MALE' \n",
      "\n",
      "No pre-processing\n",
      "Resampling: Bootstrapped (25 reps) \n",
      "Summary of sample sizes: 801, 801, 801, 801, 801, 801, ... \n",
      "Resampling results:\n",
      "\n",
      "  Accuracy   Kappa      \n",
      "  0.5418977  0.002907022\n",
      "\n",
      "Tuning parameter 'C' was held constant at a value of 1\n"
     ]
    }
   ],
   "source": [
    "model <- train( label_for_ml ~., data = dataTrain, method = \"svmLinear\")\n",
    "## this prints a lot of warnings\n",
    "print( model )"
   ]
  },
  {
   "cell_type": "code",
   "execution_count": 10,
   "metadata": {},
   "outputs": [
    {
     "data": {
      "text/html": [
       "<style>\n",
       ".dl-inline {width: auto; margin:0; padding: 0}\n",
       ".dl-inline>dt, .dl-inline>dd {float: none; width: auto; display: inline-block}\n",
       ".dl-inline>dt::after {content: \":\\0020\"; padding-right: .5ex}\n",
       ".dl-inline>dt:not(:first-of-type) {padding-left: .5ex}\n",
       "</style><dl class=dl-inline><dt>Accuracy</dt><dd>0.477386934673367</dd><dt>Kappa</dt><dd>-0.13167104111986</dd></dl>\n"
      ],
      "text/latex": [
       "\\begin{description*}\n",
       "\\item[Accuracy] 0.477386934673367\n",
       "\\item[Kappa] -0.13167104111986\n",
       "\\end{description*}\n"
      ],
      "text/markdown": [
       "Accuracy\n",
       ":   0.477386934673367Kappa\n",
       ":   -0.13167104111986\n",
       "\n"
      ],
      "text/plain": [
       "  Accuracy      Kappa \n",
       " 0.4773869 -0.1316710 "
      ]
     },
     "metadata": {},
     "output_type": "display_data"
    }
   ],
   "source": [
    "test_pred <- predict( model, newdata = dataTest )\n",
    "postResample( test_pred, as.factor(dataTest$label_for_ml) )"
   ]
  },
  {
   "cell_type": "code",
   "execution_count": 11,
   "metadata": {},
   "outputs": [
    {
     "data": {
      "text/plain": [
       "           Length Class      Mode     \n",
       "importance 2      data.frame list     \n",
       "model      1      -none-     character\n",
       "calledFrom 1      -none-     character"
      ]
     },
     "metadata": {},
     "output_type": "display_data"
    },
    {
     "name": "stderr",
     "output_type": "stream",
     "text": [
      "Warning message in grid.Call(C_textBounds, as.graphicsAnnot(x$label), x$x, x$y, :\n",
      "“conversion failure on 'špidla' in 'mbcsToSbcs': dot substituted for <c5>”\n",
      "Warning message in grid.Call(C_textBounds, as.graphicsAnnot(x$label), x$x, x$y, :\n",
      "“conversion failure on 'špidla' in 'mbcsToSbcs': dot substituted for <a1>”\n",
      "Warning message in grid.Call(C_textBounds, as.graphicsAnnot(x$label), x$x, x$y, :\n",
      "“conversion failure on 'őry' in 'mbcsToSbcs': dot substituted for <c5>”\n",
      "Warning message in grid.Call(C_textBounds, as.graphicsAnnot(x$label), x$x, x$y, :\n",
      "“conversion failure on 'őry' in 'mbcsToSbcs': dot substituted for <91>”\n",
      "Warning message in grid.Call(C_textBounds, as.graphicsAnnot(x$label), x$x, x$y, :\n",
      "“conversion failure on 'băsescu' in 'mbcsToSbcs': dot substituted for <c4>”\n",
      "Warning message in grid.Call(C_textBounds, as.graphicsAnnot(x$label), x$x, x$y, :\n",
      "“conversion failure on 'băsescu' in 'mbcsToSbcs': dot substituted for <83>”\n",
      "Warning message in grid.Call(C_textBounds, as.graphicsAnnot(x$label), x$x, x$y, :\n",
      "“conversion failure on 'győri' in 'mbcsToSbcs': dot substituted for <c5>”\n",
      "Warning message in grid.Call(C_textBounds, as.graphicsAnnot(x$label), x$x, x$y, :\n",
      "“conversion failure on 'győri' in 'mbcsToSbcs': dot substituted for <91>”\n",
      "Warning message in grid.Call(C_textBounds, as.graphicsAnnot(x$label), x$x, x$y, :\n",
      "“conversion failure on 'šefčovič' in 'mbcsToSbcs': dot substituted for <c5>”\n",
      "Warning message in grid.Call(C_textBounds, as.graphicsAnnot(x$label), x$x, x$y, :\n",
      "“conversion failure on 'šefčovič' in 'mbcsToSbcs': dot substituted for <a1>”\n",
      "Warning message in grid.Call(C_textBounds, as.graphicsAnnot(x$label), x$x, x$y, :\n",
      "“conversion failure on 'šefčovič' in 'mbcsToSbcs': dot substituted for <c4>”\n",
      "Warning message in grid.Call(C_textBounds, as.graphicsAnnot(x$label), x$x, x$y, :\n",
      "“conversion failure on 'šefčovič' in 'mbcsToSbcs': dot substituted for <8d>”\n",
      "Warning message in grid.Call(C_textBounds, as.graphicsAnnot(x$label), x$x, x$y, :\n",
      "“conversion failure on 'šefčovič' in 'mbcsToSbcs': dot substituted for <c4>”\n",
      "Warning message in grid.Call(C_textBounds, as.graphicsAnnot(x$label), x$x, x$y, :\n",
      "“conversion failure on 'šefčovič' in 'mbcsToSbcs': dot substituted for <8d>”\n",
      "Warning message in grid.Call(C_textBounds, as.graphicsAnnot(x$label), x$x, x$y, :\n",
      "“conversion failure on 'špidla' in 'mbcsToSbcs': dot substituted for <c5>”\n",
      "Warning message in grid.Call(C_textBounds, as.graphicsAnnot(x$label), x$x, x$y, :\n",
      "“conversion failure on 'špidla' in 'mbcsToSbcs': dot substituted for <a1>”\n",
      "Warning message in grid.Call(C_textBounds, as.graphicsAnnot(x$label), x$x, x$y, :\n",
      "“conversion failure on 'őry' in 'mbcsToSbcs': dot substituted for <c5>”\n",
      "Warning message in grid.Call(C_textBounds, as.graphicsAnnot(x$label), x$x, x$y, :\n",
      "“conversion failure on 'őry' in 'mbcsToSbcs': dot substituted for <91>”\n",
      "Warning message in grid.Call(C_textBounds, as.graphicsAnnot(x$label), x$x, x$y, :\n",
      "“conversion failure on 'băsescu' in 'mbcsToSbcs': dot substituted for <c4>”\n",
      "Warning message in grid.Call(C_textBounds, as.graphicsAnnot(x$label), x$x, x$y, :\n",
      "“conversion failure on 'băsescu' in 'mbcsToSbcs': dot substituted for <83>”\n",
      "Warning message in grid.Call(C_textBounds, as.graphicsAnnot(x$label), x$x, x$y, :\n",
      "“conversion failure on 'győri' in 'mbcsToSbcs': dot substituted for <c5>”\n",
      "Warning message in grid.Call(C_textBounds, as.graphicsAnnot(x$label), x$x, x$y, :\n",
      "“conversion failure on 'győri' in 'mbcsToSbcs': dot substituted for <91>”\n",
      "Warning message in grid.Call(C_textBounds, as.graphicsAnnot(x$label), x$x, x$y, :\n",
      "“conversion failure on 'šefčovič' in 'mbcsToSbcs': dot substituted for <c5>”\n",
      "Warning message in grid.Call(C_textBounds, as.graphicsAnnot(x$label), x$x, x$y, :\n",
      "“conversion failure on 'šefčovič' in 'mbcsToSbcs': dot substituted for <a1>”\n",
      "Warning message in grid.Call(C_textBounds, as.graphicsAnnot(x$label), x$x, x$y, :\n",
      "“conversion failure on 'šefčovič' in 'mbcsToSbcs': dot substituted for <c4>”\n",
      "Warning message in grid.Call(C_textBounds, as.graphicsAnnot(x$label), x$x, x$y, :\n",
      "“conversion failure on 'šefčovič' in 'mbcsToSbcs': dot substituted for <8d>”\n",
      "Warning message in grid.Call(C_textBounds, as.graphicsAnnot(x$label), x$x, x$y, :\n",
      "“conversion failure on 'šefčovič' in 'mbcsToSbcs': dot substituted for <c4>”\n",
      "Warning message in grid.Call(C_textBounds, as.graphicsAnnot(x$label), x$x, x$y, :\n",
      "“conversion failure on 'šefčovič' in 'mbcsToSbcs': dot substituted for <8d>”\n",
      "Warning message in grid.Call(C_textBounds, as.graphicsAnnot(x$label), x$x, x$y, :\n",
      "“conversion failure on 'špidla' in 'mbcsToSbcs': dot substituted for <c5>”\n",
      "Warning message in grid.Call(C_textBounds, as.graphicsAnnot(x$label), x$x, x$y, :\n",
      "“conversion failure on 'špidla' in 'mbcsToSbcs': dot substituted for <a1>”\n",
      "Warning message in grid.Call(C_textBounds, as.graphicsAnnot(x$label), x$x, x$y, :\n",
      "“conversion failure on 'őry' in 'mbcsToSbcs': dot substituted for <c5>”\n",
      "Warning message in grid.Call(C_textBounds, as.graphicsAnnot(x$label), x$x, x$y, :\n",
      "“conversion failure on 'őry' in 'mbcsToSbcs': dot substituted for <91>”\n",
      "Warning message in grid.Call(C_textBounds, as.graphicsAnnot(x$label), x$x, x$y, :\n",
      "“conversion failure on 'băsescu' in 'mbcsToSbcs': dot substituted for <c4>”\n",
      "Warning message in grid.Call(C_textBounds, as.graphicsAnnot(x$label), x$x, x$y, :\n",
      "“conversion failure on 'băsescu' in 'mbcsToSbcs': dot substituted for <83>”\n",
      "Warning message in grid.Call(C_textBounds, as.graphicsAnnot(x$label), x$x, x$y, :\n",
      "“conversion failure on 'győri' in 'mbcsToSbcs': dot substituted for <c5>”\n",
      "Warning message in grid.Call(C_textBounds, as.graphicsAnnot(x$label), x$x, x$y, :\n",
      "“conversion failure on 'győri' in 'mbcsToSbcs': dot substituted for <91>”\n",
      "Warning message in grid.Call(C_textBounds, as.graphicsAnnot(x$label), x$x, x$y, :\n",
      "“conversion failure on 'šefčovič' in 'mbcsToSbcs': dot substituted for <c5>”\n",
      "Warning message in grid.Call(C_textBounds, as.graphicsAnnot(x$label), x$x, x$y, :\n",
      "“conversion failure on 'šefčovič' in 'mbcsToSbcs': dot substituted for <a1>”\n",
      "Warning message in grid.Call(C_textBounds, as.graphicsAnnot(x$label), x$x, x$y, :\n",
      "“conversion failure on 'šefčovič' in 'mbcsToSbcs': dot substituted for <c4>”\n",
      "Warning message in grid.Call(C_textBounds, as.graphicsAnnot(x$label), x$x, x$y, :\n",
      "“conversion failure on 'šefčovič' in 'mbcsToSbcs': dot substituted for <8d>”\n",
      "Warning message in grid.Call(C_textBounds, as.graphicsAnnot(x$label), x$x, x$y, :\n",
      "“conversion failure on 'šefčovič' in 'mbcsToSbcs': dot substituted for <c4>”\n",
      "Warning message in grid.Call(C_textBounds, as.graphicsAnnot(x$label), x$x, x$y, :\n",
      "“conversion failure on 'šefčovič' in 'mbcsToSbcs': dot substituted for <8d>”\n",
      "Warning message in grid.Call(C_textBounds, as.graphicsAnnot(x$label), x$x, x$y, :\n",
      "“conversion failure on 'špidla' in 'mbcsToSbcs': dot substituted for <c5>”\n",
      "Warning message in grid.Call(C_textBounds, as.graphicsAnnot(x$label), x$x, x$y, :\n",
      "“conversion failure on 'špidla' in 'mbcsToSbcs': dot substituted for <a1>”\n",
      "Warning message in grid.Call(C_textBounds, as.graphicsAnnot(x$label), x$x, x$y, :\n",
      "“conversion failure on 'őry' in 'mbcsToSbcs': dot substituted for <c5>”\n",
      "Warning message in grid.Call(C_textBounds, as.graphicsAnnot(x$label), x$x, x$y, :\n",
      "“conversion failure on 'őry' in 'mbcsToSbcs': dot substituted for <91>”\n",
      "Warning message in grid.Call(C_textBounds, as.graphicsAnnot(x$label), x$x, x$y, :\n",
      "“conversion failure on 'băsescu' in 'mbcsToSbcs': dot substituted for <c4>”\n",
      "Warning message in grid.Call(C_textBounds, as.graphicsAnnot(x$label), x$x, x$y, :\n",
      "“conversion failure on 'băsescu' in 'mbcsToSbcs': dot substituted for <83>”\n",
      "Warning message in grid.Call(C_textBounds, as.graphicsAnnot(x$label), x$x, x$y, :\n",
      "“conversion failure on 'győri' in 'mbcsToSbcs': dot substituted for <c5>”\n",
      "Warning message in grid.Call(C_textBounds, as.graphicsAnnot(x$label), x$x, x$y, :\n",
      "“conversion failure on 'győri' in 'mbcsToSbcs': dot substituted for <91>”\n",
      "Warning message in grid.Call(C_textBounds, as.graphicsAnnot(x$label), x$x, x$y, :\n",
      "“conversion failure on 'šefčovič' in 'mbcsToSbcs': dot substituted for <c5>”\n",
      "Warning message in grid.Call(C_textBounds, as.graphicsAnnot(x$label), x$x, x$y, :\n",
      "“conversion failure on 'šefčovič' in 'mbcsToSbcs': dot substituted for <a1>”\n",
      "Warning message in grid.Call(C_textBounds, as.graphicsAnnot(x$label), x$x, x$y, :\n",
      "“conversion failure on 'šefčovič' in 'mbcsToSbcs': dot substituted for <c4>”\n",
      "Warning message in grid.Call(C_textBounds, as.graphicsAnnot(x$label), x$x, x$y, :\n",
      "“conversion failure on 'šefčovič' in 'mbcsToSbcs': dot substituted for <8d>”\n",
      "Warning message in grid.Call(C_textBounds, as.graphicsAnnot(x$label), x$x, x$y, :\n",
      "“conversion failure on 'šefčovič' in 'mbcsToSbcs': dot substituted for <c4>”\n",
      "Warning message in grid.Call(C_textBounds, as.graphicsAnnot(x$label), x$x, x$y, :\n",
      "“conversion failure on 'šefčovič' in 'mbcsToSbcs': dot substituted for <8d>”\n",
      "Warning message in grid.Call.graphics(C_text, as.graphicsAnnot(x$label), x$x, x$y, :\n",
      "“conversion failure on 'špidla' in 'mbcsToSbcs': dot substituted for <c5>”\n",
      "Warning message in grid.Call.graphics(C_text, as.graphicsAnnot(x$label), x$x, x$y, :\n",
      "“conversion failure on 'špidla' in 'mbcsToSbcs': dot substituted for <a1>”\n",
      "Warning message in grid.Call.graphics(C_text, as.graphicsAnnot(x$label), x$x, x$y, :\n",
      "“conversion failure on 'őry' in 'mbcsToSbcs': dot substituted for <c5>”\n",
      "Warning message in grid.Call.graphics(C_text, as.graphicsAnnot(x$label), x$x, x$y, :\n",
      "“conversion failure on 'őry' in 'mbcsToSbcs': dot substituted for <91>”\n",
      "Warning message in grid.Call.graphics(C_text, as.graphicsAnnot(x$label), x$x, x$y, :\n",
      "“conversion failure on 'băsescu' in 'mbcsToSbcs': dot substituted for <c4>”\n",
      "Warning message in grid.Call.graphics(C_text, as.graphicsAnnot(x$label), x$x, x$y, :\n",
      "“conversion failure on 'băsescu' in 'mbcsToSbcs': dot substituted for <83>”\n",
      "Warning message in grid.Call.graphics(C_text, as.graphicsAnnot(x$label), x$x, x$y, :\n",
      "“conversion failure on 'győri' in 'mbcsToSbcs': dot substituted for <c5>”\n",
      "Warning message in grid.Call.graphics(C_text, as.graphicsAnnot(x$label), x$x, x$y, :\n",
      "“conversion failure on 'győri' in 'mbcsToSbcs': dot substituted for <91>”\n",
      "Warning message in grid.Call.graphics(C_text, as.graphicsAnnot(x$label), x$x, x$y, :\n",
      "“conversion failure on 'šefčovič' in 'mbcsToSbcs': dot substituted for <c5>”\n",
      "Warning message in grid.Call.graphics(C_text, as.graphicsAnnot(x$label), x$x, x$y, :\n",
      "“conversion failure on 'šefčovič' in 'mbcsToSbcs': dot substituted for <a1>”\n",
      "Warning message in grid.Call.graphics(C_text, as.graphicsAnnot(x$label), x$x, x$y, :\n",
      "“conversion failure on 'šefčovič' in 'mbcsToSbcs': dot substituted for <c4>”\n",
      "Warning message in grid.Call.graphics(C_text, as.graphicsAnnot(x$label), x$x, x$y, :\n",
      "“conversion failure on 'šefčovič' in 'mbcsToSbcs': dot substituted for <8d>”\n",
      "Warning message in grid.Call.graphics(C_text, as.graphicsAnnot(x$label), x$x, x$y, :\n",
      "“conversion failure on 'šefčovič' in 'mbcsToSbcs': dot substituted for <c4>”\n",
      "Warning message in grid.Call.graphics(C_text, as.graphicsAnnot(x$label), x$x, x$y, :\n",
      "“conversion failure on 'šefčovič' in 'mbcsToSbcs': dot substituted for <8d>”\n"
     ]
    },
    {
     "data": {
      "image/png": "[encoded data removed]",
      "text/plain": [
       "plot without title"
      ]
     },
     "metadata": {
      "image/png": {
       "height": 420,
       "width": 420
      }
     },
     "output_type": "display_data"
    }
   ],
   "source": [
    "## TODO: Broken :(\n",
    "importance <- varImp( model, data = dataTest )\n",
    "\n",
    "summary( importance )\n",
    "plot( importance )"
   ]
  },
  {
   "cell_type": "markdown",
   "metadata": {},
   "source": [
    "### Tasks\n",
    "\n",
    "* Run the code as is and interprent the accuracy. What does that mean?\n",
    "* Examine different metrics for [classification accuracy](https://topepo.github.io/caret/measuring-performance.html).\n",
    "* Fix issues in the text pre-processing: account for stop words, frequent terms ans stem content in the document-term-matrix: does it have any implications on accuracy?\n",
    "* Predictors includes each feature (as a key) and how good the variable was for said problem (as a value). Extract from this the best predictors.\n",
    "* Count the number of different labels in the dataset of 10,000 comments. What can you observe?\n",
    "* Modify the code to use [Naive Bayes](https://topepo.github.io/caret/train-models-by-tag.html#bayesian-model) model and SVM model. Which one seems to work better?"
   ]
  },
  {
   "cell_type": "markdown",
   "metadata": {},
   "source": [
    "# Advanced magics"
   ]
  },
  {
   "cell_type": "markdown",
   "metadata": {},
   "source": [
    "* There are many different ways to build a models using various supervised machine learning methods.\n",
    "One can use different parameters of methods. This is known as *tuning* the model and can improve models' performance in terms of accuracy.\n",
    "* [Grid search](https://topepo.github.io/caret/model-training-and-tuning.html#basic-parameter-tuning) is an approach to examine different parameters and examine what paremeters lead to best models.\n",
    "* You can also work on data preprocessing to [scale them](https://topepo.github.io/caret/pre-processing.html#centering-and-scaling) or try to more acressively to clean or remove data."
   ]
  },
  {
   "cell_type": "code",
   "execution_count": 12,
   "metadata": {},
   "outputs": [],
   "source": [
    "## defining parameters for different models\n",
    "grid <- expand.grid( \"C\" = c(1, 10, 100, 1000) )"
   ]
  },
  {
   "cell_type": "code",
   "execution_count": 13,
   "metadata": {},
   "outputs": [
    {
     "name": "stderr",
     "output_type": "stream",
     "text": [
      "Warning message in .local(x, ...):\n",
      "“Variable(s) `' constant. Cannot scale data.”\n",
      "Warning message in .local(x, ...):\n",
      "“Variable(s) `' constant. Cannot scale data.”\n",
      "Warning message in .local(x, ...):\n",
      "“Variable(s) `' constant. Cannot scale data.”\n",
      "Warning message in .local(x, ...):\n",
      "“Variable(s) `' constant. Cannot scale data.”\n",
      "Warning message in .local(x, ...):\n",
      "“Variable(s) `' constant. Cannot scale data.”\n",
      "Warning message in .local(x, ...):\n",
      "“Variable(s) `' constant. Cannot scale data.”\n",
      "Warning message in .local(x, ...):\n",
      "“Variable(s) `' constant. Cannot scale data.”\n",
      "Warning message in .local(x, ...):\n",
      "“Variable(s) `' constant. Cannot scale data.”\n",
      "Warning message in .local(x, ...):\n",
      "“Variable(s) `' constant. Cannot scale data.”\n",
      "Warning message in .local(x, ...):\n",
      "“Variable(s) `' constant. Cannot scale data.”\n",
      "Warning message in .local(x, ...):\n",
      "“Variable(s) `' constant. Cannot scale data.”\n",
      "Warning message in .local(x, ...):\n",
      "“Variable(s) `' constant. Cannot scale data.”\n",
      "Warning message in .local(x, ...):\n",
      "“Variable(s) `' constant. Cannot scale data.”\n",
      "Warning message in .local(x, ...):\n",
      "“Variable(s) `' constant. Cannot scale data.”\n",
      "Warning message in .local(x, ...):\n",
      "“Variable(s) `' constant. Cannot scale data.”\n",
      "Warning message in .local(x, ...):\n",
      "“Variable(s) `' constant. Cannot scale data.”\n",
      "Warning message in .local(x, ...):\n",
      "“Variable(s) `' constant. Cannot scale data.”\n",
      "Warning message in .local(x, ...):\n",
      "“Variable(s) `' constant. Cannot scale data.”\n",
      "Warning message in .local(x, ...):\n",
      "“Variable(s) `' constant. Cannot scale data.”\n",
      "Warning message in .local(x, ...):\n",
      "“Variable(s) `' constant. Cannot scale data.”\n",
      "Warning message in .local(x, ...):\n",
      "“Variable(s) `' constant. Cannot scale data.”\n",
      "Warning message in .local(x, ...):\n",
      "“Variable(s) `' constant. Cannot scale data.”\n",
      "Warning message in .local(x, ...):\n",
      "“Variable(s) `' constant. Cannot scale data.”\n",
      "Warning message in .local(x, ...):\n",
      "“Variable(s) `' constant. Cannot scale data.”\n",
      "Warning message in .local(x, ...):\n",
      "“Variable(s) `' constant. Cannot scale data.”\n",
      "Warning message in .local(x, ...):\n",
      "“Variable(s) `' constant. Cannot scale data.”\n",
      "Warning message in .local(x, ...):\n",
      "“Variable(s) `' constant. Cannot scale data.”\n",
      "Warning message in .local(x, ...):\n",
      "“Variable(s) `' constant. Cannot scale data.”\n",
      "Warning message in .local(x, ...):\n",
      "“Variable(s) `' constant. Cannot scale data.”\n",
      "Warning message in .local(x, ...):\n",
      "“Variable(s) `' constant. Cannot scale data.”\n",
      "Warning message in .local(x, ...):\n",
      "“Variable(s) `' constant. Cannot scale data.”\n",
      "Warning message in .local(x, ...):\n",
      "“Variable(s) `' constant. Cannot scale data.”\n",
      "Warning message in .local(x, ...):\n",
      "“Variable(s) `' constant. Cannot scale data.”\n",
      "Warning message in .local(x, ...):\n",
      "“Variable(s) `' constant. Cannot scale data.”\n",
      "Warning message in .local(x, ...):\n",
      "“Variable(s) `' constant. Cannot scale data.”\n",
      "Warning message in .local(x, ...):\n",
      "“Variable(s) `' constant. Cannot scale data.”\n",
      "Warning message in .local(x, ...):\n",
      "“Variable(s) `' constant. Cannot scale data.”\n",
      "Warning message in .local(x, ...):\n",
      "“Variable(s) `' constant. Cannot scale data.”\n",
      "Warning message in .local(x, ...):\n",
      "“Variable(s) `' constant. Cannot scale data.”\n",
      "Warning message in .local(x, ...):\n",
      "“Variable(s) `' constant. Cannot scale data.”\n",
      "Warning message in .local(x, ...):\n",
      "“Variable(s) `' constant. Cannot scale data.”\n",
      "Warning message in .local(x, ...):\n",
      "“Variable(s) `' constant. Cannot scale data.”\n",
      "Warning message in .local(x, ...):\n",
      "“Variable(s) `' constant. Cannot scale data.”\n",
      "Warning message in .local(x, ...):\n",
      "“Variable(s) `' constant. Cannot scale data.”\n",
      "Warning message in .local(x, ...):\n",
      "“Variable(s) `' constant. Cannot scale data.”\n",
      "Warning message in .local(x, ...):\n",
      "“Variable(s) `' constant. Cannot scale data.”\n",
      "Warning message in .local(x, ...):\n",
      "“Variable(s) `' constant. Cannot scale data.”\n",
      "Warning message in .local(x, ...):\n",
      "“Variable(s) `' constant. Cannot scale data.”\n",
      "Warning message in .local(x, ...):\n",
      "“Variable(s) `' constant. Cannot scale data.”\n",
      "Warning message in .local(x, ...):\n",
      "“Variable(s) `' constant. Cannot scale data.”\n",
      "Warning message in .local(x, ...):\n",
      "“Variable(s) `' constant. Cannot scale data.”\n",
      "Warning message in .local(x, ...):\n",
      "“Variable(s) `' constant. Cannot scale data.”\n",
      "Warning message in .local(x, ...):\n",
      "“Variable(s) `' constant. Cannot scale data.”\n",
      "Warning message in .local(x, ...):\n",
      "“Variable(s) `' constant. Cannot scale data.”\n",
      "Warning message in .local(x, ...):\n",
      "“Variable(s) `' constant. Cannot scale data.”\n",
      "Warning message in .local(x, ...):\n",
      "“Variable(s) `' constant. Cannot scale data.”\n",
      "Warning message in .local(x, ...):\n",
      "“Variable(s) `' constant. Cannot scale data.”\n",
      "Warning message in .local(x, ...):\n",
      "“Variable(s) `' constant. Cannot scale data.”\n",
      "Warning message in .local(x, ...):\n",
      "“Variable(s) `' constant. Cannot scale data.”\n",
      "Warning message in .local(x, ...):\n",
      "“Variable(s) `' constant. Cannot scale data.”\n",
      "Warning message in .local(x, ...):\n",
      "“Variable(s) `' constant. Cannot scale data.”\n",
      "Warning message in .local(x, ...):\n",
      "“Variable(s) `' constant. Cannot scale data.”\n",
      "Warning message in .local(x, ...):\n",
      "“Variable(s) `' constant. Cannot scale data.”\n",
      "Warning message in .local(x, ...):\n",
      "“Variable(s) `' constant. Cannot scale data.”\n",
      "Warning message in .local(x, ...):\n",
      "“Variable(s) `' constant. Cannot scale data.”\n",
      "Warning message in .local(x, ...):\n",
      "“Variable(s) `' constant. Cannot scale data.”\n",
      "Warning message in .local(x, ...):\n",
      "“Variable(s) `' constant. Cannot scale data.”\n",
      "Warning message in .local(x, ...):\n",
      "“Variable(s) `' constant. Cannot scale data.”\n",
      "Warning message in .local(x, ...):\n",
      "“Variable(s) `' constant. Cannot scale data.”\n",
      "Warning message in .local(x, ...):\n",
      "“Variable(s) `' constant. Cannot scale data.”\n",
      "Warning message in .local(x, ...):\n",
      "“Variable(s) `' constant. Cannot scale data.”\n",
      "Warning message in .local(x, ...):\n",
      "“Variable(s) `' constant. Cannot scale data.”\n",
      "Warning message in .local(x, ...):\n",
      "“Variable(s) `' constant. Cannot scale data.”\n",
      "Warning message in .local(x, ...):\n",
      "“Variable(s) `' constant. Cannot scale data.”\n",
      "Warning message in .local(x, ...):\n",
      "“Variable(s) `' constant. Cannot scale data.”\n",
      "Warning message in .local(x, ...):\n",
      "“Variable(s) `' constant. Cannot scale data.”\n",
      "Warning message in .local(x, ...):\n",
      "“Variable(s) `' constant. Cannot scale data.”\n",
      "Warning message in .local(x, ...):\n",
      "“Variable(s) `' constant. Cannot scale data.”\n",
      "Warning message in .local(x, ...):\n",
      "“Variable(s) `' constant. Cannot scale data.”\n",
      "Warning message in .local(x, ...):\n",
      "“Variable(s) `' constant. Cannot scale data.”\n",
      "Warning message in .local(x, ...):\n",
      "“Variable(s) `' constant. Cannot scale data.”\n",
      "Warning message in .local(x, ...):\n",
      "“Variable(s) `' constant. Cannot scale data.”\n",
      "Warning message in .local(x, ...):\n",
      "“Variable(s) `' constant. Cannot scale data.”\n",
      "Warning message in .local(x, ...):\n",
      "“Variable(s) `' constant. Cannot scale data.”\n",
      "Warning message in .local(x, ...):\n",
      "“Variable(s) `' constant. Cannot scale data.”\n",
      "Warning message in .local(x, ...):\n",
      "“Variable(s) `' constant. Cannot scale data.”\n",
      "Warning message in .local(x, ...):\n",
      "“Variable(s) `' constant. Cannot scale data.”\n",
      "Warning message in .local(x, ...):\n",
      "“Variable(s) `' constant. Cannot scale data.”\n",
      "Warning message in .local(x, ...):\n",
      "“Variable(s) `' constant. Cannot scale data.”\n",
      "Warning message in .local(x, ...):\n",
      "“Variable(s) `' constant. Cannot scale data.”\n",
      "Warning message in .local(x, ...):\n",
      "“Variable(s) `' constant. Cannot scale data.”\n",
      "Warning message in .local(x, ...):\n",
      "“Variable(s) `' constant. Cannot scale data.”\n",
      "Warning message in .local(x, ...):\n",
      "“Variable(s) `' constant. Cannot scale data.”\n",
      "Warning message in .local(x, ...):\n",
      "“Variable(s) `' constant. Cannot scale data.”\n",
      "Warning message in .local(x, ...):\n",
      "“Variable(s) `' constant. Cannot scale data.”\n",
      "Warning message in .local(x, ...):\n",
      "“Variable(s) `' constant. Cannot scale data.”\n",
      "Warning message in .local(x, ...):\n",
      "“Variable(s) `' constant. Cannot scale data.”\n",
      "Warning message in .local(x, ...):\n",
      "“Variable(s) `' constant. Cannot scale data.”\n",
      "Warning message in .local(x, ...):\n",
      "“Variable(s) `' constant. Cannot scale data.”\n",
      "Warning message in .local(x, ...):\n",
      "“Variable(s) `' constant. Cannot scale data.”\n",
      "Warning message in .local(x, ...):\n",
      "“Variable(s) `' constant. Cannot scale data.”\n"
     ]
    }
   ],
   "source": [
    "model <- train( label_for_ml ~., data = dataTrain, method = \"svmLinear\", tuneGrid = grid )"
   ]
  },
  {
   "cell_type": "markdown",
   "metadata": {},
   "source": [
    "* We have used a binary variable (male/female), however support vector machines can be used to multi-category classification or linear variables through regression models - see [different models](https://topepo.github.io/caret/available-models.html)."
   ]
  },
  {
   "cell_type": "markdown",
   "metadata": {},
   "source": [
    "* If doing category classification, the algorithm is senstive to inbalances between classification, i.e. if there are more cases belonging to Category 1 than in Category 2. We might need to do [magic](https://topepo.github.io/caret/subsampling-for-class-imbalances.html) to control for these."
   ]
  },
  {
   "cell_type": "code",
   "execution_count": 15,
   "metadata": {},
   "outputs": [
    {
     "name": "stderr",
     "output_type": "stream",
     "text": [
      "Loaded ROSE 0.0-4\n",
      "\n",
      "\n"
     ]
    },
    {
     "ename": "ERROR",
     "evalue": "Error in str2lang(x): <text>:1:29: unexpected ','\n1: label_for_ml ~ mr+president+,\n                                ^\n",
     "output_type": "error",
     "traceback": [
      "Error in str2lang(x): <text>:1:29: unexpected ','\n1: label_for_ml ~ mr+president+,\n                                ^\nTraceback:\n",
      "1. ROSE(label_for_ml ~ ., data = dataTrain)",
      "2. omnibus.balancing(formula, data, subset, na.action, N, p, method = \"rose\", \n .     seed, hmult.majo, hmult.mino)",
      "3. adj.formula(formula, data)",
      "4. as.formula(paste(vars[1], \"~\", paste(vars[-1], collapse = \"+\")))",
      "5. formula(object, env = baseenv())",
      "6. formula.character(object, env = baseenv())",
      "7. str2lang(x)"
     ]
    }
   ],
   "source": [
    "library(ROSE)\n",
    "\n",
    "fixedDataTrain <- ROSE( label_for_ml ~ ., data = dataTrain) ## note: clean out , before running this code\n",
    "\n",
    "model <- train( label_for_ml ~., data = fixedDataTrain, method = \"svmLinear\" )\n",
    "print( model )"
   ]
  },
  {
   "cell_type": "markdown",
   "metadata": {},
   "source": [
    "### Tasks\n",
    "\n",
    "* Try different grid seaarcg parameters, see if your accuracy metric improve.\n",
    "* Does balancing improve accuracy with our data?\n",
    "* Use age variable to develop a regression model."
   ]
  },
  {
   "cell_type": "code",
   "execution_count": null,
   "metadata": {},
   "outputs": [],
   "source": []
  }
 ],
 "metadata": {
  "kernelspec": {
   "display_name": "R",
   "language": "R",
   "name": "ir"
  },
  "language_info": {
   "codemirror_mode": "r",
   "file_extension": ".r",
   "mimetype": "text/x-r-source",
   "name": "R",
   "pygments_lexer": "r",
   "version": "4.1.0"
  }
 },
 "nbformat": 4,
 "nbformat_minor": 4
}
