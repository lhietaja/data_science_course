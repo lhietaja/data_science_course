{
 "cells": [
  {
   "cell_type": "code",
   "execution_count": 4,
   "metadata": {},
   "outputs": [
    {
     "name": "stderr",
     "output_type": "stream",
     "text": [
      "Installing packages into ‘/usr/local/lib/R/4.1/site-library’\n",
      "(as ‘lib’ is unspecified)\n",
      "\n",
      "Warning message in install.packages(c(\"arules\", \"arulesViz\", \"caret\", \"stringr\", :\n",
      "“installation of package ‘caret’ had non-zero exit status”\n",
      "Warning message in install.packages(c(\"arules\", \"arulesViz\", \"caret\", \"stringr\", :\n",
      "“installation of package ‘dplyr’ had non-zero exit status”\n",
      "Warning message in install.packages(c(\"arules\", \"arulesViz\", \"caret\", \"stringr\", :\n",
      "“installation of package ‘XML’ had non-zero exit status”\n"
     ]
    }
   ],
   "source": [
    "install.packages( c(\"arules\", \"arulesViz\", \"caret\", \"stringr\", \"dplyr\", \"corpus\", \"XML\", \"quanteda\", \"topicmodels\", \"randomForest\", \"kernlab\", \"ROSE\"))"
   ]
  },
  {
   "cell_type": "code",
   "execution_count": null,
   "metadata": {},
   "outputs": [],
   "source": []
  }
 ],
 "metadata": {
  "kernelspec": {
   "display_name": "R",
   "language": "R",
   "name": "ir"
  },
  "language_info": {
   "codemirror_mode": "r",
   "file_extension": ".r",
   "mimetype": "text/x-r-source",
   "name": "R",
   "pygments_lexer": "r",
   "version": "4.1.0"
  }
 },
 "nbformat": 4,
 "nbformat_minor": 4
}
