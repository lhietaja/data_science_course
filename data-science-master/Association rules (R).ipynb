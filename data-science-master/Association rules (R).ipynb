{
 "cells": [
  {
   "cell_type": "code",
   "execution_count": null,
   "metadata": {},
   "outputs": [],
   "source": [
    "## create new data matrix for decision tree analysis\n",
    "all_data = read.csv( 'data/wvs.csv')\n",
    "\n",
    "## ugly hack to create a correct size empty data frame, where we can add selected variables.\n",
    "## this is to avoid needing to modify all variables in all_data to binary variables.\n",
    "data = data.frame( matrix(NA, nrow=nrow(all_data), ncol=1) )\n",
    "\n",
    "variables = c( 'V10', 'V4', 'V5', 'V6', 'V7', 'V8', 'V9')\n",
    "\n",
    "for( variable in variables ){\n",
    "    data[ , variable ] = all_data[ , variable ] >= 3\n",
    "    \n",
    "}    \n",
    "head( data )"
   ]
  },
  {
   "cell_type": "code",
   "execution_count": null,
   "metadata": {},
   "outputs": [],
   "source": [
    "library(arules)\n",
    "\n",
    "rules <- apriori( data , parameter = list(support = 0.0000001 ) )"
   ]
  },
  {
   "cell_type": "code",
   "execution_count": null,
   "metadata": {},
   "outputs": [],
   "source": [
    "inspect( rules ) "
   ]
  },
  {
   "cell_type": "markdown",
   "metadata": {},
   "source": [
    "## Tasks\n",
    "\n",
    "* Analyse also lift and support. Do you find any rules which might be interesting for further investigation?\n",
    "* Try adding more variables. Note that these can only be True/False variables."
   ]
  },
  {
   "cell_type": "code",
   "execution_count": null,
   "metadata": {},
   "outputs": [],
   "source": []
  }
 ],
 "metadata": {
  "kernelspec": {
   "display_name": "R",
   "language": "R",
   "name": "ir"
  },
  "language_info": {
   "codemirror_mode": "r",
   "file_extension": ".r",
   "mimetype": "text/x-r-source",
   "name": "R",
   "pygments_lexer": "r",
   "version": "4.1.0"
  }
 },
 "nbformat": 4,
 "nbformat_minor": 4
}
