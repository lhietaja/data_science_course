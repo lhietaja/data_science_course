{
 "cells": [
  {
   "cell_type": "markdown",
   "metadata": {},
   "source": [
    "# Decion trees and random forests\n",
    "\n",
    "## Data\n",
    "\n",
    "Use the [World Value Survey](http://www.worldvaluessurvey.org/WVSDocumentationWV6.jsp) datafiles and corresponding questionaire and codebook files to understand what is in the data.\n",
    "\n",
    "## Overarching research question\n",
    "\n",
    "Explain what variables effect happiness (`V10`) using decison-tree learning.\n",
    "\n",
    "## Method\n",
    "\n",
    "There are many tools used for this, we apply [Caret](https://topepo.github.io/caret/)."
   ]
  },
  {
   "cell_type": "code",
   "execution_count": null,
   "metadata": {},
   "outputs": [],
   "source": [
    "## create new data matrix for decision tree analysis\n",
    "\n",
    "## create new data matrix for k-means analysis\n",
    "\n",
    "selected_keys <- c('V10', 'V4', 'V5', 'V6', 'V7', 'V8', 'V9')\n",
    "\n",
    "full_data <- read.csv('data/wvs.csv')\n",
    "\n",
    "data <- full_data[,selected_keys ]\n",
    "\n",
    "print( nrow( data ) )"
   ]
  },
  {
   "cell_type": "code",
   "execution_count": null,
   "metadata": {},
   "outputs": [],
   "source": [
    "library(caret)\n",
    "\n",
    "data$V10 <- as.factor( data$V10 ) ## translate this to a categorial variable to run categorial learning; otherwise runs a regression model\n",
    "\n",
    "model <- train( V10 ~ ., data = data, method = 'rpart')"
   ]
  },
  {
   "cell_type": "code",
   "execution_count": null,
   "metadata": {},
   "outputs": [],
   "source": [
    "plot( model$finalModel )\n",
    "text( model$finalModel )"
   ]
  },
  {
   "cell_type": "markdown",
   "metadata": {},
   "source": [
    "## Model analysis\n",
    "\n",
    "As we spoke, there are [many different approaches to evaluate the quality of a model](http://topepo.github.io/caret/measuring-performance.html). Beyond single metrics (like accuracy score, kappa score), confusion matrix may be beneficial to understand model performance."
   ]
  },
  {
   "cell_type": "code",
   "execution_count": null,
   "metadata": {},
   "outputs": [],
   "source": [
    "predicted_values <- predict( model, data )\n",
    "confusionMatrix( predicted_values, data$V10 )"
   ]
  },
  {
   "cell_type": "markdown",
   "metadata": {},
   "source": [
    "## Tasks\n",
    "\n",
    "* Choose better or more interesting values to be modelled.\n",
    "* Improve the data preprocessing (remove missing values etc.)\n",
    "* Apply training data - test data split in the data analysis stage. Does that improve the analysis at all?\n",
    "* Increase the maximum depth of the decision tree. Does it improve the analysis at all?"
   ]
  },
  {
   "cell_type": "markdown",
   "metadata": {},
   "source": [
    "## Random forests -  a decision tree on steroids.\n",
    "\n",
    "The challenge with decision trees is that they run a single model on the dataset.\n",
    "However, like many other machine learning algorihms (both supervised and unsupervised), it relies on a single random state.\n",
    "It can overfit or does not lead to best accuracy.\n",
    "[Random forests](https://topepo.github.io/caret/train-models-by-tag.html#Random_Forestl) fix these issues through creating more trees, examining their differences and creating a classifier through combining different decision trees."
   ]
  },
  {
   "cell_type": "code",
   "execution_count": null,
   "metadata": {},
   "outputs": [],
   "source": [
    "data$V10 <- as.factor( data$V10 ) ## translate this to a categorial variable to run categorial learning; otherwise runs a regression model\n",
    "\n",
    "model <- train( V10 ~ ., data = data, method = 'rf')"
   ]
  },
  {
   "cell_type": "code",
   "execution_count": null,
   "metadata": {},
   "outputs": [],
   "source": [
    "predicted_values <- predict( model, data )\n",
    "confusionMatrix( predicted_values, data$V10 )"
   ]
  },
  {
   "cell_type": "code",
   "execution_count": null,
   "metadata": {},
   "outputs": [],
   "source": []
  }
 ],
 "metadata": {
  "kernelspec": {
   "display_name": "R",
   "language": "R",
   "name": "ir"
  },
  "language_info": {
   "codemirror_mode": "r",
   "file_extension": ".r",
   "mimetype": "text/x-r-source",
   "name": "R",
   "pygments_lexer": "r",
   "version": "4.1.0"
  }
 },
 "nbformat": 4,
 "nbformat_minor": 4
}
