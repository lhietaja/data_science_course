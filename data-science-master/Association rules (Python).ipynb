{
 "cells": [
  {
   "cell_type": "code",
   "execution_count": null,
   "metadata": {},
   "outputs": [],
   "source": [
    "## create new data matrix for decision tree analysis\n",
    "import pandas as pd\n",
    "\n",
    "all_data = pd.read_csv( 'data/wvs.csv')\n",
    "\n",
    "data = pd.DataFrame()\n",
    "\n",
    "variables = [ 'V10', 'V4', 'V5', 'V6', 'V7', 'V8', 'V9']\n",
    "\n",
    "for variable in variables:\n",
    "    \n",
    "    data[ variable ] = all_data[ variable ] >= 3\n",
    "    \n",
    "data.head()"
   ]
  },
  {
   "cell_type": "code",
   "execution_count": null,
   "metadata": {},
   "outputs": [],
   "source": [
    "from mlxtend.frequent_patterns import apriori\n",
    "from mlxtend.frequent_patterns import association_rules\n",
    "\n",
    "rules = apriori( data, min_support=0.0000001, use_colnames = True )\n",
    "rules['length'] = rules['itemsets'].apply(lambda x: len(x))\n",
    "\n",
    "rules = association_rules( rules )\n",
    "\n",
    "print( rules )"
   ]
  },
  {
   "cell_type": "code",
   "execution_count": null,
   "metadata": {},
   "outputs": [],
   "source": [
    "for rule in rules.to_dict('records'):    \n",
    "    print( rule['antecedents'], '=>', rule['consequents'], 'confidence', rule['confidence'] )"
   ]
  },
  {
   "cell_type": "markdown",
   "metadata": {},
   "source": [
    "## Tasks\n",
    "\n",
    "* Analyse also lift and support. Do you find any rules which might be interesting for further investigation?\n",
    "* Try adding more variables. Note that these can only be True/False variables."
   ]
  },
  {
   "cell_type": "code",
   "execution_count": null,
   "metadata": {},
   "outputs": [],
   "source": []
  }
 ],
 "metadata": {
  "kernelspec": {
   "display_name": "Python 3",
   "language": "python",
   "name": "python3"
  },
  "language_info": {
   "codemirror_mode": {
    "name": "ipython",
    "version": 3
   },
   "file_extension": ".py",
   "mimetype": "text/x-python",
   "name": "python",
   "nbconvert_exporter": "python",
   "pygments_lexer": "ipython3",
   "version": "3.9.5"
  }
 },
 "nbformat": 4,
 "nbformat_minor": 4
}
