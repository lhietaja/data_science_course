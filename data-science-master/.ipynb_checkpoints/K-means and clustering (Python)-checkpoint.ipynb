{
 "cells": [
  {
   "cell_type": "markdown",
   "metadata": {},
   "source": [
    "# K-means\n",
    "\n",
    "## Data\n",
    "\n",
    "Use the [World Value Survey](http://www.worldvaluessurvey.org/WVSDocumentationWV6.jsp) datafiles and corresponding questionaire and codebook files to understand what is in the data.\n",
    "\n",
    "## Overarching research question\n",
    "\n",
    "What kind of responder groups can emerge from survey responders and do they correspond to nationalities?\n",
    "* Choose some relevant measurements\n",
    "* Run analysis\n",
    "* Interprent\n",
    "\n",
    "## Method\n",
    "\n",
    "There are many tools used for this, we apply [SciKit learn](https://scikit-learn.org/0.16/modules/clustering.html#clustering).\n"
   ]
  },
  {
   "cell_type": "code",
   "execution_count": 3,
   "metadata": {},
   "outputs": [],
   "source": [
    "import csv\n",
    "import sklearn.cluster\n",
    "import sklearn\n",
    "import collections"
   ]
  },
  {
   "cell_type": "code",
   "execution_count": null,
   "metadata": {},
   "outputs": [],
   "source": [
    "## create new data matrix for k-means analysis\n",
    "\n",
    "selected_keys = ['V4', 'V5', 'V6', 'V7', 'V8', 'V9']\n",
    "\n",
    "data = []\n",
    "\n",
    "for line in csv.DictReader( open('data/wvs.csv') ):\n",
    "    dd = []\n",
    "    for key in selected_keys:\n",
    "        dd.append( line[key] )\n",
    "    data.append( dd )\n",
    "\n",
    "print( len( data ) )"
   ]
  },
  {
   "cell_type": "code",
   "execution_count": null,
   "metadata": {},
   "outputs": [],
   "source": [
    "clustering_machine = sklearn.cluster.KMeans( 10 )\n",
    "clustering_results = clustering_machine.fit_predict( data )\n",
    "\n",
    "## number of responders per cluster\n",
    "print( collections.Counter( clustering_results ) )"
   ]
  },
  {
   "cell_type": "markdown",
   "metadata": {},
   "source": [
    "Now we have created a **ten cluster** approach.\n",
    "How do we know if it is any good?\n",
    "\n",
    "What would be different if we create a **five cluster** model instead?\n",
    "\n",
    "Let's examine the mean values per each of the identified cluster."
   ]
  },
  {
   "cell_type": "code",
   "execution_count": null,
   "metadata": {},
   "outputs": [],
   "source": [
    "## clustering_results with row ID numbers\n",
    "all_clusters = set( clustering_results  )\n",
    "clustering_results_with_rows = set( enumerate( clustering_results ) )\n",
    "\n",
    "for cluster in all_clusters:\n",
    "    \n",
    "    ## select entries in this cluster\n",
    "    this_cluster_rows = filter( lambda cr: cr[1] == cluster, clustering_results_with_rows )\n",
    "    this_cluster_values = []\n",
    "    \n",
    "    for entry in this_cluster_rows:\n",
    "        row = entry[0]\n",
    "        this_cluster_values.append( data[ row ] )\n",
    "        \n",
    "    print( \"Cluster\", cluster )\n",
    "    \n",
    "    ## compute means per cluster\n",
    "    for i, name in enumerate( selected_keys ):\n",
    "        \n",
    "        dd = set( map( lambda x: int(x[i]), this_cluster_values ) )   \n",
    "        print( name , sum( dd ) / len( dd ) )\n",
    "        \n",
    "## TODO: this is super-manual way of doing this. Pandas could do all of this for you automatically."
   ]
  },
  {
   "cell_type": "markdown",
   "metadata": {},
   "source": [
    "## Task\n",
    "\n",
    "* Run the above code and explain to yourself what is done.\n",
    "* Response values -1, -2 and -3 relate to missing data (people answering I don't know etc.). Clean these values away from the dataset and redo your analysis.\n",
    "* Choose suitable variables using the codebook and your understanding and intuition.\n",
    "* Modify the number of clusters and examine how results change."
   ]
  },
  {
   "cell_type": "markdown",
   "metadata": {},
   "source": [
    "## Looking inside K-means\n",
    "\n",
    "Often we prefer to use some data-driven approaches to identify the best number of clusters. One way to achieve this is to use the [elbow_ method](https://en.wikipedia.org/wiki/Elbow_method_(clustering)), where we visually inspect the best number of topics. Other tools exists as well, such as the [Silhouette method](https://en.wikipedia.org/wiki/Silhouette_(clustering)). Elbow is simple, but not always that clear and other methods are preferred. However, it is easy to understand.\n",
    "\n",
    "The Elbow-method measures the distance clusters' items have to the centroid (sum of squared errors, sse). It can range from 0 (all items in the clusters are at the same point as its centroid) to positive infinity (nodes are all over the place). When numer or clusters (k) is increased, it decreases SSE; but this is a balancing act: how do you balance between more clusters and additional complexity and most explainability?"
   ]
  },
  {
   "cell_type": "code",
   "execution_count": null,
   "metadata": {},
   "outputs": [],
   "source": [
    "sse = {}\n",
    "\n",
    "for k in range(1, 10):\n",
    "    kmeans = sklearn.cluster.KMeans(n_clusters=k).fit(data)\n",
    "    sse[k] = kmeans.inertia_"
   ]
  },
  {
   "cell_type": "code",
   "execution_count": null,
   "metadata": {},
   "outputs": [],
   "source": [
    "import matplotlib.pyplot as plt\n",
    "plt.figure()\n",
    "plt.plot(list(sse.keys()), list(sse.values()))\n",
    "plt.xlabel(\"Number of cluster\")\n",
    "plt.ylabel(\"SSE\")\n",
    "plt.show()"
   ]
  },
  {
   "cell_type": "markdown",
   "metadata": {},
   "source": [
    "## Tasks\n",
    "\n",
    "* Draw three different k-means clusterings with centroids and related values and organize them by their SSE.\n",
    "* Use the elbow method to optimize your model.\n",
    "* What similarities can you find between k-means and factor analysis?\n",
    "* How does k-means differ from factor analysis? "
   ]
  },
  {
   "cell_type": "code",
   "execution_count": null,
   "metadata": {},
   "outputs": [],
   "source": []
  }
 ],
 "metadata": {
  "kernelspec": {
   "display_name": "Python 3",
   "language": "python",
   "name": "python3"
  },
  "language_info": {
   "codemirror_mode": {
    "name": "ipython",
    "version": 3
   },
   "file_extension": ".py",
   "mimetype": "text/x-python",
   "name": "python",
   "nbconvert_exporter": "python",
   "pygments_lexer": "ipython3",
   "version": "3.8.10"
  }
 },
 "nbformat": 4,
 "nbformat_minor": 4
}
