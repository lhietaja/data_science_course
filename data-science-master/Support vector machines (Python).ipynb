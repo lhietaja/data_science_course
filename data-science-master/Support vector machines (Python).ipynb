{
 "cells": [
  {
   "cell_type": "markdown",
   "metadata": {},
   "source": [
    "## Support vector machines\n",
    "\n",
    "**Data** [Gender-annoted dataset of European parliament talks](https://www.kaggle.com/ellarabi/europarl-annotated-for-speaker-gender-and-age)\n",
    "\n",
    "**Overreaching question** Can we develop a model which correctly predicts speakers' based on what they are saying?"
   ]
  },
  {
   "cell_type": "markdown",
   "metadata": {},
   "source": [
    "## Data management\n",
    "\n",
    "We connect the variable of interest into the textual data each speaker has said.\n",
    "That data is stored as XML, so we need to do a bit of work before we can easily use it.\n",
    "Also, transform the textual data to a feature matrix."
   ]
  },
  {
   "cell_type": "code",
   "execution_count": null,
   "metadata": {},
   "outputs": [],
   "source": [
    "metadata = open('./data/europarl-annotated-for-speaker-gender-and-age/europarl.de-en/europarl.de-en.dat').readlines()\n",
    "all_texts = open('./data/europarl-annotated-for-speaker-gender-and-age/europarl.de-en/europarl.de-en.en.aligned.tok').readlines()\n",
    "\n",
    "## check that both files have same number of rows\n",
    "assert len(metadata) == len(all_texts)\n",
    "\n",
    "## this time processign these takes already some time, so let's choose a random set of 1000 messages already now\n",
    "\n",
    "import random\n",
    "\n",
    "random.seed(1)\n",
    "\n",
    "selected_lines = random.sample( range( len( metadata ) ) , k = 10000 )\n",
    "\n",
    "print( metadata[0] )\n",
    "\n",
    "from bs4 import BeautifulSoup\n",
    "\n",
    "genders = []\n",
    "selected_texts = []\n",
    "\n",
    "for line in selected_lines:\n",
    "    \n",
    "    md = BeautifulSoup( metadata[ line ] )\n",
    "    genders.append( md.line['gender'] )\n",
    "    \n",
    "    selected_texts.append( all_texts[ line ] )\n",
    "    \n",
    "\n",
    "print( len( genders ) )\n",
    "print( len( selected_texts ) )"
   ]
  },
  {
   "cell_type": "code",
   "execution_count": null,
   "metadata": {},
   "outputs": [],
   "source": [
    "from sklearn.feature_extraction.text import CountVectorizer\n",
    "\n",
    "tf_vectorizer = CountVectorizer()\n",
    "document_term_matrix = tf_vectorizer.fit_transform( selected_texts )"
   ]
  },
  {
   "cell_type": "markdown",
   "metadata": {},
   "source": [
    "## Separate the train-test split\n",
    "\n",
    "This is used later in the analysis to ensure we do not [overfit](https://en.wikipedia.org/wiki/Overfitting) the data when we train the machine learning classifier.\n",
    "We choose to use 20% of data for testing."
   ]
  },
  {
   "cell_type": "code",
   "execution_count": null,
   "metadata": {},
   "outputs": [],
   "source": [
    "from sklearn.model_selection import train_test_split\n",
    "\n",
    "label_train, label_test, data_train, data_test = train_test_split( genders, document_term_matrix, test_size = .2 )"
   ]
  },
  {
   "cell_type": "markdown",
   "metadata": {},
   "source": [
    "# Run and evaluate machine learning tasks\n",
    "\n",
    "We now train the model using the **training** data and measure how well accuracy we achieved by examining **test data**."
   ]
  },
  {
   "cell_type": "code",
   "execution_count": null,
   "metadata": {},
   "outputs": [],
   "source": [
    "from sklearn import svm\n",
    "\n",
    "model = svm.SVC(kernel='linear') # Linear Kernel, default settings\n",
    "model.fit( data_train, label_train)"
   ]
  },
  {
   "cell_type": "code",
   "execution_count": null,
   "metadata": {},
   "outputs": [],
   "source": [
    "from sklearn import metrics\n",
    "\n",
    "## check how well we did for testing data\n",
    "label_test_pred = model.predict( data_test )\n",
    "print( metrics.accuracy_score( label_test, label_test_pred ) )"
   ]
  },
  {
   "cell_type": "code",
   "execution_count": null,
   "metadata": {},
   "outputs": [],
   "source": [
    "# understand predictions\n",
    "\n",
    "predictors = {}\n",
    "\n",
    "for i, name in enumerate( tf_vectorizer.get_feature_names() ):\n",
    "    predictors[name] = i\n",
    "    \n",
    "    \n",
    "for name, value in predictors.items():\n",
    "    predictors[name] = model.coef_[0, value ]\n",
    "    \n",
    "\n",
    "print( predictors )"
   ]
  },
  {
   "cell_type": "markdown",
   "metadata": {},
   "source": [
    "### Tasks\n",
    "\n",
    "* Run the code as is and interprent the accuracy. What does that mean?\n",
    "* Examine different metrics for [classification accuracy](https://scikit-learn.org/stable/modules/classes.html#sklearn-metrics-metrics).\n",
    "* Fix issues in the text pre-processing: account for stop words, frequent terms ans stem content in the document-term-matrix: does it have any implications on accuracy?\n",
    "* Predictors includes each feature (as a key) and how good the variable was for said problem (as a value). Extract from this the best predictors.\n",
    "* Count the number of different labels in the dataset of 10,000 comments. What can you observe?\n",
    "* Modify the code to use [Naive Bayes](https://scikit-learn.org/stable/modules/naive_bayes.html#naive-bayes) model and SVM model. Which one seems to work better?"
   ]
  },
  {
   "cell_type": "markdown",
   "metadata": {},
   "source": [
    "# Advanced magics"
   ]
  },
  {
   "cell_type": "markdown",
   "metadata": {},
   "source": [
    "* There are many different ways to build a models using various supervised machine learning methods.\n",
    "One can use different parameters of methods. This is known as *tuning* the model and can improve models' performance in terms of accuracy.\n",
    "* [Grid search](https://scikit-learn.org/stable/modules/grid_search.html) is an approach to examine different parameters and examine what paremeters lead to best models.\n",
    "* You can also work on data preprocessing to [scale them](https://scikit-learn.org/stable/modules/preprocessing.html) or try to more acressively to clean or remove data."
   ]
  },
  {
   "cell_type": "code",
   "execution_count": null,
   "metadata": {},
   "outputs": [],
   "source": [
    "## defining parameters for different models\n",
    "param_grid = [\n",
    "  {'C': [1, 10, 100, 1000], 'kernel': ['linear']},\n",
    "  {'C': [1, 10, 100, 1000], 'gamma': [0.001, 0.0001], 'kernel': ['rbf']},\n",
    " ]"
   ]
  },
  {
   "cell_type": "code",
   "execution_count": null,
   "metadata": {},
   "outputs": [],
   "source": [
    "from sklearn.model_selection import GridSearchCV\n",
    "\n",
    "many_models = GridSearchCV( svm.SVC(), param_grid )\n",
    "many_models.fit( data_train, label_train )\n",
    "\n",
    "print( many_models )"
   ]
  },
  {
   "cell_type": "markdown",
   "metadata": {},
   "source": [
    "* We have used a binary variable (male/female), however support vector machines can be used to [multi-category classification](https://scikit-learn.org/stable/modules/svm.html#multi-class-classification) or [linear variables through regression models](https://scikit-learn.org/stable/modules/svm.html#regression)."
   ]
  },
  {
   "cell_type": "markdown",
   "metadata": {},
   "source": [
    "* If doing category classification, the algorithm is senstive to inbalances between classification, i.e. if there are more cases belonging to Category 1 than in Category 2. "
   ]
  },
  {
   "cell_type": "code",
   "execution_count": null,
   "metadata": {},
   "outputs": [],
   "source": [
    "model = svm.SVC(kernel='linear', class_weight='balanced') # Linear Kernel, default settings\n",
    "model.fit( data_train, label_train)"
   ]
  },
  {
   "cell_type": "markdown",
   "metadata": {},
   "source": [
    "### Tasks\n",
    "\n",
    "* Try different grid seaarcg parameters, see if your accuracy metric improve.\n",
    "* Does balancing improve accuracy with our data?\n",
    "* Use age variable to develop a regression model."
   ]
  },
  {
   "cell_type": "code",
   "execution_count": null,
   "metadata": {},
   "outputs": [],
   "source": []
  }
 ],
 "metadata": {
  "kernelspec": {
   "display_name": "Python 3",
   "language": "python",
   "name": "python3"
  },
  "language_info": {
   "codemirror_mode": {
    "name": "ipython",
    "version": 3
   },
   "file_extension": ".py",
   "mimetype": "text/x-python",
   "name": "python",
   "nbconvert_exporter": "python",
   "pygments_lexer": "ipython3",
   "version": "3.9.5"
  }
 },
 "nbformat": 4,
 "nbformat_minor": 4
}
